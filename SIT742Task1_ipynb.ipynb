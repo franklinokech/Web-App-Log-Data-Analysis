{
  "nbformat": 4,
  "nbformat_minor": 0,
  "metadata": {
    "colab": {
      "name": "SIT742Task1.ipynb.ipynb",
      "provenance": [],
      "mount_file_id": "1xh6yUFb5mGXc0JK9qRwUjSX3smTv_OEv",
      "authorship_tag": "ABX9TyNGIdbui19sHwwH8dRN34B1",
      "include_colab_link": true
    },
    "kernelspec": {
      "name": "python3",
      "display_name": "Python 3"
    },
    "language_info": {
      "name": "python"
    }
  },
  "cells": [
    {
      "cell_type": "markdown",
      "metadata": {
        "id": "view-in-github",
        "colab_type": "text"
      },
      "source": [
        "<a href=\"https://colab.research.google.com/github/franklinokech/Web-App-Log-Data-Analysis/blob/main/SIT742Task1_ipynb.ipynb\" target=\"_parent\"><img src=\"https://colab.research.google.com/assets/colab-badge.svg\" alt=\"Open In Colab\"/></a>"
      ]
    },
    {
      "cell_type": "markdown",
      "metadata": {
        "id": "vvtZc05qY3aL"
      },
      "source": [
        "# Part 1"
      ]
    },
    {
      "cell_type": "markdown",
      "metadata": {
        "id": "588FTS0qZ0Ai"
      },
      "source": [
        "## Data Manipulation -  Web Log Data"
      ]
    },
    {
      "cell_type": "markdown",
      "metadata": {
        "id": "2ByBIVifZ_Df"
      },
      "source": [
        "### 1 ETA"
      ]
    },
    {
      "cell_type": "markdown",
      "metadata": {
        "id": "rMC_k1pYaSun"
      },
      "source": [
        "#### 1.1 Loading Data"
      ]
    },
    {
      "cell_type": "code",
      "metadata": {
        "id": "aYYYZpwtY422"
      },
      "source": [
        "import pandas as pd\n",
        "import numpy as np\n",
        "import zipfile\n",
        "import os\n",
        "import codecs"
      ],
      "execution_count": null,
      "outputs": []
    },
    {
      "cell_type": "code",
      "metadata": {
        "colab": {
          "base_uri": "https://localhost:8080/"
        },
        "id": "C5cSYbKQcodp",
        "outputId": "d4836ba2-015c-4f1d-ab7e-56ce01cc55fa"
      },
      "source": [
        "from zipfile import ZipFile\n",
        "\n",
        "z = ZipFile('/content/drive/MyDrive/Freelancing/Academic Writing/Nerdy Turtlez/2021/April/1646999 Master of business analytics- SIT742/assignment/5022425_1223420154_HTWebLogp11.zip')\n",
        "\n",
        "text_files = z.infolist()\n",
        "\n",
        "for text_file in text_files:\n",
        "    z.read(text_file.filename)\n",
        "    print(text_file)"
      ],
      "execution_count": null,
      "outputs": [
        {
          "output_type": "stream",
          "text": [
            "<ZipInfo filename='ex061101.log' compress_type=deflate external_attr=0x20 file_size=18532992 compress_size=773071>\n",
            "<ZipInfo filename='ex061102.log' compress_type=deflate external_attr=0x20 file_size=15945422 compress_size=646948>\n",
            "<ZipInfo filename='ex061103.log' compress_type=deflate external_attr=0x20 file_size=15972120 compress_size=644905>\n",
            "<ZipInfo filename='ex061104.log' compress_type=deflate external_attr=0x20 file_size=11517450 compress_size=482947>\n",
            "<ZipInfo filename='ex061105.log' compress_type=deflate external_attr=0x20 file_size=10248389 compress_size=405053>\n",
            "<ZipInfo filename='ex061106.log' compress_type=deflate external_attr=0x20 file_size=19191975 compress_size=794243>\n",
            "<ZipInfo filename='ex061107.log' compress_type=deflate external_attr=0x20 file_size=17640042 compress_size=735402>\n",
            "<ZipInfo filename='ex061108.log' compress_type=deflate external_attr=0x20 file_size=18418359 compress_size=773337>\n",
            "<ZipInfo filename='ex061109.log' compress_type=deflate external_attr=0x20 file_size=17879174 compress_size=710765>\n",
            "<ZipInfo filename='ex061110.log' compress_type=deflate external_attr=0x20 file_size=16741553 compress_size=710873>\n",
            "<ZipInfo filename='ex061111.log' compress_type=deflate external_attr=0x20 file_size=12283814 compress_size=489961>\n",
            "<ZipInfo filename='ex061112.log' compress_type=deflate external_attr=0x20 file_size=11400350 compress_size=448121>\n",
            "<ZipInfo filename='ex061113.log' compress_type=deflate external_attr=0x20 file_size=18292425 compress_size=723227>\n",
            "<ZipInfo filename='ex061114.log' compress_type=deflate external_attr=0x20 file_size=24231017 compress_size=1002809>\n",
            "<ZipInfo filename='ex061115.log' compress_type=deflate external_attr=0x20 file_size=20344138 compress_size=814718>\n",
            "<ZipInfo filename='ex061116.log' compress_type=deflate external_attr=0x20 file_size=24500945 compress_size=1019462>\n",
            "<ZipInfo filename='ex061117.log' compress_type=deflate external_attr=0x20 file_size=18361012 compress_size=741173>\n",
            "<ZipInfo filename='ex061118.log' compress_type=deflate external_attr=0x20 file_size=13478648 compress_size=519833>\n",
            "<ZipInfo filename='ex061119.log' compress_type=deflate external_attr=0x20 file_size=13539348 compress_size=518949>\n",
            "<ZipInfo filename='ex061120.log' compress_type=deflate external_attr=0x20 file_size=22456716 compress_size=874284>\n",
            "<ZipInfo filename='ex061121.log' compress_type=deflate external_attr=0x20 file_size=23668049 compress_size=914084>\n",
            "<ZipInfo filename='ex061122.log' compress_type=deflate external_attr=0x20 file_size=23513562 compress_size=942278>\n",
            "<ZipInfo filename='ex061123.log' compress_type=deflate external_attr=0x20 file_size=24159651 compress_size=965128>\n",
            "<ZipInfo filename='ex061124.log' compress_type=deflate external_attr=0x20 file_size=20690956 compress_size=805017>\n",
            "<ZipInfo filename='ex061125.log' compress_type=deflate external_attr=0x20 file_size=15815458 compress_size=597974>\n",
            "<ZipInfo filename='ex061126.log' compress_type=deflate external_attr=0x20 file_size=16398108 compress_size=627358>\n",
            "<ZipInfo filename='ex061127.log' compress_type=deflate external_attr=0x20 file_size=29497734 compress_size=1207230>\n",
            "<ZipInfo filename='ex061128.log' compress_type=deflate external_attr=0x20 file_size=23781763 compress_size=936558>\n",
            "<ZipInfo filename='ex061129.log' compress_type=deflate external_attr=0x20 file_size=22351605 compress_size=889008>\n",
            "<ZipInfo filename='ex061130.log' compress_type=deflate external_attr=0x20 file_size=24507241 compress_size=988936>\n",
            "<ZipInfo filename='ex061201.log' compress_type=deflate external_attr=0x20 file_size=27730252 compress_size=1005195>\n",
            "<ZipInfo filename='ex061202.log' compress_type=deflate external_attr=0x20 file_size=14344986 compress_size=558369>\n",
            "<ZipInfo filename='ex061203.log' compress_type=deflate external_attr=0x20 file_size=16322277 compress_size=625003>\n",
            "<ZipInfo filename='ex061204.log' compress_type=deflate external_attr=0x20 file_size=25906524 compress_size=987386>\n",
            "<ZipInfo filename='ex061205.log' compress_type=deflate external_attr=0x20 file_size=23499561 compress_size=900489>\n",
            "<ZipInfo filename='ex061206.log' compress_type=deflate external_attr=0x20 file_size=25161065 compress_size=964951>\n",
            "<ZipInfo filename='ex061207.log' compress_type=deflate external_attr=0x20 file_size=27643663 compress_size=1093000>\n",
            "<ZipInfo filename='ex061208.log' compress_type=deflate external_attr=0x20 file_size=27433480 compress_size=1139697>\n",
            "<ZipInfo filename='ex061209.log' compress_type=deflate external_attr=0x20 file_size=17465476 compress_size=694274>\n",
            "<ZipInfo filename='ex061210.log' compress_type=deflate external_attr=0x20 file_size=17209467 compress_size=666424>\n",
            "<ZipInfo filename='ex061211.log' compress_type=deflate external_attr=0x20 file_size=25944325 compress_size=1006841>\n",
            "<ZipInfo filename='ex061212.log' compress_type=deflate external_attr=0x20 file_size=29503864 compress_size=1202077>\n",
            "<ZipInfo filename='ex061213.log' compress_type=deflate external_attr=0x20 file_size=29540143 compress_size=1159309>\n",
            "<ZipInfo filename='ex061214.log' compress_type=deflate external_attr=0x20 file_size=29121850 compress_size=1193292>\n",
            "<ZipInfo filename='ex061215.log' compress_type=deflate external_attr=0x20 file_size=23318549 compress_size=922832>\n",
            "<ZipInfo filename='ex061216.log' compress_type=deflate external_attr=0x20 file_size=15421096 compress_size=605518>\n",
            "<ZipInfo filename='ex061217.log' compress_type=deflate external_attr=0x20 file_size=16355371 compress_size=633000>\n",
            "<ZipInfo filename='ex061218.log' compress_type=deflate external_attr=0x20 file_size=22266667 compress_size=917967>\n",
            "<ZipInfo filename='ex061219.log' compress_type=deflate external_attr=0x20 file_size=25785957 compress_size=1058002>\n",
            "<ZipInfo filename='ex061220.log' compress_type=deflate external_attr=0x20 file_size=24722639 compress_size=1028284>\n",
            "<ZipInfo filename='ex061221.log' compress_type=deflate external_attr=0x20 file_size=22392095 compress_size=889892>\n",
            "<ZipInfo filename='ex061222.log' compress_type=deflate external_attr=0x20 file_size=17519304 compress_size=677962>\n",
            "<ZipInfo filename='ex061223.log' compress_type=deflate external_attr=0x20 file_size=17103797 compress_size=657345>\n",
            "<ZipInfo filename='ex061224.log' compress_type=deflate external_attr=0x20 file_size=11382389 compress_size=440061>\n",
            "<ZipInfo filename='ex061225.log' compress_type=deflate external_attr=0x20 file_size=12482010 compress_size=480798>\n",
            "<ZipInfo filename='ex061226.log' compress_type=deflate external_attr=0x20 file_size=11975111 compress_size=472173>\n",
            "<ZipInfo filename='ex061227.log' compress_type=deflate external_attr=0x20 file_size=9644920 compress_size=385053>\n",
            "<ZipInfo filename='ex061228.log' compress_type=deflate external_attr=0x20 file_size=13536417 compress_size=573525>\n",
            "<ZipInfo filename='ex061229.log' compress_type=deflate external_attr=0x20 file_size=13656649 compress_size=574484>\n",
            "<ZipInfo filename='ex061230.log' compress_type=deflate external_attr=0x20 file_size=10142689 compress_size=432179>\n",
            "<ZipInfo filename='ex061231.log' compress_type=deflate external_attr=0x20 file_size=7450185 compress_size=300596>\n",
            "<ZipInfo filename='ex070101.log' compress_type=deflate external_attr=0x20 file_size=7633481 compress_size=309103>\n",
            "<ZipInfo filename='ex070102.log' compress_type=deflate external_attr=0x20 file_size=14877506 compress_size=615536>\n",
            "<ZipInfo filename='ex070103.log' compress_type=deflate external_attr=0x20 file_size=16484048 compress_size=703431>\n",
            "<ZipInfo filename='ex070104.log' compress_type=deflate external_attr=0x20 file_size=18924390 compress_size=818587>\n",
            "<ZipInfo filename='ex070105.log' compress_type=deflate external_attr=0x20 file_size=16902722 compress_size=730221>\n",
            "<ZipInfo filename='ex070106.log' compress_type=deflate external_attr=0x20 file_size=11169922 compress_size=459099>\n",
            "<ZipInfo filename='ex070107.log' compress_type=deflate external_attr=0x20 file_size=8607718 compress_size=360165>\n",
            "<ZipInfo filename='ex070108.log' compress_type=deflate external_attr=0x20 file_size=15413332 compress_size=636218>\n",
            "<ZipInfo filename='ex070109.log' compress_type=deflate external_attr=0x20 file_size=20431146 compress_size=874292>\n",
            "<ZipInfo filename='ex070110.log' compress_type=deflate external_attr=0x20 file_size=17181452 compress_size=709014>\n",
            "<ZipInfo filename='ex070111.log' compress_type=deflate external_attr=0x20 file_size=17013587 compress_size=684391>\n",
            "<ZipInfo filename='ex070112.log' compress_type=deflate external_attr=0x20 file_size=18657435 compress_size=796625>\n",
            "<ZipInfo filename='ex070113.log' compress_type=deflate external_attr=0x20 file_size=12655245 compress_size=522207>\n",
            "<ZipInfo filename='ex070114.log' compress_type=deflate external_attr=0x20 file_size=10282443 compress_size=423676>\n",
            "<ZipInfo filename='ex070115.log' compress_type=deflate external_attr=0x20 file_size=18147637 compress_size=735101>\n",
            "<ZipInfo filename='ex070116.log' compress_type=deflate external_attr=0x20 file_size=16551884 compress_size=664968>\n",
            "<ZipInfo filename='ex070117.log' compress_type=deflate external_attr=0x20 file_size=17963354 compress_size=719417>\n",
            "<ZipInfo filename='ex070118.log' compress_type=deflate external_attr=0x20 file_size=19523590 compress_size=827460>\n",
            "<ZipInfo filename='ex070119.log' compress_type=deflate external_attr=0x20 file_size=19913633 compress_size=875074>\n",
            "<ZipInfo filename='ex070120.log' compress_type=deflate external_attr=0x20 file_size=11405541 compress_size=469570>\n",
            "<ZipInfo filename='ex070121.log' compress_type=deflate external_attr=0x20 file_size=11680071 compress_size=471468>\n",
            "<ZipInfo filename='ex070122.log' compress_type=deflate external_attr=0x20 file_size=17656801 compress_size=719896>\n",
            "<ZipInfo filename='ex070123.log' compress_type=deflate external_attr=0x20 file_size=18119261 compress_size=726261>\n",
            "<ZipInfo filename='ex070124.log' compress_type=deflate external_attr=0x20 file_size=16117074 compress_size=657050>\n",
            "<ZipInfo filename='ex070125.log' compress_type=deflate external_attr=0x20 file_size=16006864 compress_size=637849>\n",
            "<ZipInfo filename='ex070126.log' compress_type=deflate external_attr=0x20 file_size=20779573 compress_size=886848>\n",
            "<ZipInfo filename='ex070127.log' compress_type=deflate external_attr=0x20 file_size=12527850 compress_size=517084>\n",
            "<ZipInfo filename='ex070128.log' compress_type=deflate external_attr=0x20 file_size=12890411 compress_size=514130>\n",
            "<ZipInfo filename='ex070129.log' compress_type=deflate external_attr=0x20 file_size=22207764 compress_size=926733>\n",
            "<ZipInfo filename='ex070130.log' compress_type=deflate external_attr=0x20 file_size=19692694 compress_size=802518>\n",
            "<ZipInfo filename='ex070131.log' compress_type=deflate external_attr=0x20 file_size=21310585 compress_size=886778>\n",
            "<ZipInfo filename='ex070201.log' compress_type=deflate external_attr=0x20 file_size=20632210 compress_size=843352>\n",
            "<ZipInfo filename='ex070202.log' compress_type=deflate external_attr=0x20 file_size=19476286 compress_size=814816>\n",
            "<ZipInfo filename='ex070203.log' compress_type=deflate external_attr=0x20 file_size=13277603 compress_size=544412>\n",
            "<ZipInfo filename='ex070204.log' compress_type=deflate external_attr=0x20 file_size=12516163 compress_size=500085>\n",
            "<ZipInfo filename='ex070205.log' compress_type=deflate external_attr=0x20 file_size=21033718 compress_size=839927>\n",
            "<ZipInfo filename='ex070206.log' compress_type=deflate external_attr=0x20 file_size=19856280 compress_size=784920>\n",
            "<ZipInfo filename='ex070207.log' compress_type=deflate external_attr=0x20 file_size=18611156 compress_size=731708>\n",
            "<ZipInfo filename='ex070208.log' compress_type=deflate external_attr=0x20 file_size=20717761 compress_size=845120>\n",
            "<ZipInfo filename='ex070209.log' compress_type=deflate external_attr=0x20 file_size=20377529 compress_size=858149>\n",
            "<ZipInfo filename='ex070210.log' compress_type=deflate external_attr=0x20 file_size=13628763 compress_size=570307>\n",
            "<ZipInfo filename='ex070211.log' compress_type=deflate external_attr=0x20 file_size=13619401 compress_size=543219>\n",
            "<ZipInfo filename='ex070212.log' compress_type=deflate external_attr=0x20 file_size=21695117 compress_size=935959>\n",
            "<ZipInfo filename='ex070213.log' compress_type=deflate external_attr=0x20 file_size=17551876 compress_size=717007>\n",
            "<ZipInfo filename='ex070214.log' compress_type=deflate external_attr=0x20 file_size=15471318 compress_size=637249>\n",
            "<ZipInfo filename='ex070215.log' compress_type=deflate external_attr=0x20 file_size=16207694 compress_size=671021>\n",
            "<ZipInfo filename='ex070216.log' compress_type=deflate external_attr=0x20 file_size=12215213 compress_size=492024>\n",
            "<ZipInfo filename='ex070217.log' compress_type=deflate external_attr=0x20 file_size=6677553 compress_size=281093>\n",
            "<ZipInfo filename='ex070218.log' compress_type=deflate external_attr=0x20 file_size=7773841 compress_size=308668>\n",
            "<ZipInfo filename='ex070219.log' compress_type=deflate external_attr=0x20 file_size=9462361 compress_size=374003>\n",
            "<ZipInfo filename='ex070220.log' compress_type=deflate external_attr=0x20 file_size=10795531 compress_size=416427>\n",
            "<ZipInfo filename='ex070221.log' compress_type=deflate external_attr=0x20 file_size=14557645 compress_size=581346>\n",
            "<ZipInfo filename='ex070222.log' compress_type=deflate external_attr=0x20 file_size=14366544 compress_size=575548>\n",
            "<ZipInfo filename='ex070223.log' compress_type=deflate external_attr=0x20 file_size=15063132 compress_size=600123>\n",
            "<ZipInfo filename='ex070224.log' compress_type=deflate external_attr=0x20 file_size=9400783 compress_size=381757>\n",
            "<ZipInfo filename='ex070225.log' compress_type=deflate external_attr=0x20 file_size=10069816 compress_size=402213>\n",
            "<ZipInfo filename='ex070226.log' compress_type=deflate external_attr=0x20 file_size=15065391 compress_size=592152>\n",
            "<ZipInfo filename='ex070227.log' compress_type=deflate external_attr=0x20 file_size=16423611 compress_size=640383>\n",
            "<ZipInfo filename='ex070228.log' compress_type=deflate external_attr=0x20 file_size=15800785 compress_size=655844>\n"
          ],
          "name": "stdout"
        }
      ]
    },
    {
      "cell_type": "markdown",
      "metadata": {
        "id": "tALzgy0w2UPS"
      },
      "source": [
        "#### Unzip"
      ]
    },
    {
      "cell_type": "code",
      "metadata": {
        "id": "iakrSqX5zqGQ"
      },
      "source": [
        "my_zip_file = ZipFile('/content/drive/MyDrive/Freelancing/Academic Writing/Nerdy Turtlez/2021/April/1646999 Master of business analytics- SIT742/assignment/5022425_1223420154_HTWebLogp11.zip')\n",
        "my_path = '/content/drive/MyDrive/Freelancing/Academic Writing/Nerdy Turtlez/2021/April/1646999 Master of business analytics- SIT742/assignment/logs'\n",
        "\n",
        "my_zip_file.extractall(my_path, members=None, pwd=None)"
      ],
      "execution_count": null,
      "outputs": []
    },
    {
      "cell_type": "code",
      "metadata": {
        "id": "S1i5iJTQ2HbB"
      },
      "source": [
        ""
      ],
      "execution_count": null,
      "outputs": []
    },
    {
      "cell_type": "markdown",
      "metadata": {
        "id": "2IO5DqRR2XRd"
      },
      "source": [
        "#### Read Data"
      ]
    },
    {
      "cell_type": "code",
      "metadata": {
        "colab": {
          "base_uri": "https://localhost:8080/"
        },
        "id": "9lIYWYwb2Ylq",
        "outputId": "b801d44b-9ac8-492a-a173-0523d1efc4b7"
      },
      "source": [
        "# iterate through all file\n",
        "\n",
        "data = []\n",
        "for myfile in os.listdir('/content/drive/MyDrive/Freelancing/Academic Writing/Nerdy Turtlez/2021/April/1646999 Master of business analytics- SIT742/assignment/logs'):\n",
        "    # Check whether file is in text format or not\n",
        "    if myfile.endswith(\".log\"):\n",
        "        path = '/content/drive/MyDrive/Freelancing/Academic Writing/Nerdy Turtlez/2021/April/1646999 Master of business analytics- SIT742/assignment/logs'\n",
        "        file_path = f\"{path}/{myfile}\"\n",
        "       \n",
        "  \n",
        "        # call read text file function\n",
        "        df = pd.read_csv(file_path, skiprows=4, quotechar='\"', encoding='latin-1', sep=' ',header=None,delimiter=' ', names=['date', 'time', 's-sitename', 's-ip', 'cs-method', 'cs-uri-stem', 'cs-uri-query', 's-port', 'cs-username', 'c-ip', 'cs(User-Agent)', 'cs(Referer)', 'sc-status', 'sc-substatus', 'sc-win32-status'])\n",
        "        data.append(df)\n",
        "\n",
        "df_master = pd.concat(data)"
      ],
      "execution_count": null,
      "outputs": [
        {
          "output_type": "stream",
          "text": [
            "/usr/local/lib/python3.7/dist-packages/IPython/core/interactiveshell.py:2718: DtypeWarning: Columns (7,12,13,14) have mixed types.Specify dtype option on import or set low_memory=False.\n",
            "  interactivity=interactivity, compiler=compiler, result=result)\n"
          ],
          "name": "stderr"
        }
      ]
    },
    {
      "cell_type": "code",
      "metadata": {
        "colab": {
          "base_uri": "https://localhost:8080/",
          "height": 343
        },
        "id": "wreTIaMsD3Fd",
        "outputId": "a63e6228-0803-490f-a342-21a5613d7143"
      },
      "source": [
        "df_master.head()"
      ],
      "execution_count": null,
      "outputs": [
        {
          "output_type": "execute_result",
          "data": {
            "text/html": [
              "<div>\n",
              "<style scoped>\n",
              "    .dataframe tbody tr th:only-of-type {\n",
              "        vertical-align: middle;\n",
              "    }\n",
              "\n",
              "    .dataframe tbody tr th {\n",
              "        vertical-align: top;\n",
              "    }\n",
              "\n",
              "    .dataframe thead th {\n",
              "        text-align: right;\n",
              "    }\n",
              "</style>\n",
              "<table border=\"1\" class=\"dataframe\">\n",
              "  <thead>\n",
              "    <tr style=\"text-align: right;\">\n",
              "      <th></th>\n",
              "      <th>date</th>\n",
              "      <th>time</th>\n",
              "      <th>s-sitename</th>\n",
              "      <th>s-ip</th>\n",
              "      <th>cs-method</th>\n",
              "      <th>cs-uri-stem</th>\n",
              "      <th>cs-uri-query</th>\n",
              "      <th>s-port</th>\n",
              "      <th>cs-username</th>\n",
              "      <th>c-ip</th>\n",
              "      <th>cs(User-Agent)</th>\n",
              "      <th>cs(Referer)</th>\n",
              "      <th>sc-status</th>\n",
              "      <th>sc-substatus</th>\n",
              "      <th>sc-win32-status</th>\n",
              "    </tr>\n",
              "  </thead>\n",
              "  <tbody>\n",
              "    <tr>\n",
              "      <th>0</th>\n",
              "      <td>2006-11-01</td>\n",
              "      <td>00:00:08</td>\n",
              "      <td>W3SVC1</td>\n",
              "      <td>127.0.0.1</td>\n",
              "      <td>GET</td>\n",
              "      <td>/Default.aspx</td>\n",
              "      <td>-</td>\n",
              "      <td>80</td>\n",
              "      <td>-</td>\n",
              "      <td>70.80.84.76</td>\n",
              "      <td>Mozilla/4.0+(compatible;+MSIE+6.0;+Windows+NT+...</td>\n",
              "      <td>http://www.google.com/search?sourceid=navclien...</td>\n",
              "      <td>200</td>\n",
              "      <td>0</td>\n",
              "      <td>0</td>\n",
              "    </tr>\n",
              "    <tr>\n",
              "      <th>1</th>\n",
              "      <td>2006-11-01</td>\n",
              "      <td>00:00:08</td>\n",
              "      <td>W3SVC1</td>\n",
              "      <td>127.0.0.1</td>\n",
              "      <td>GET</td>\n",
              "      <td>/Tulip/home/en-us/home_index.aspx</td>\n",
              "      <td>-</td>\n",
              "      <td>80</td>\n",
              "      <td>-</td>\n",
              "      <td>70.80.84.76</td>\n",
              "      <td>Mozilla/4.0+(compatible;+MSIE+6.0;+Windows+NT+...</td>\n",
              "      <td>-</td>\n",
              "      <td>200</td>\n",
              "      <td>0</td>\n",
              "      <td>0</td>\n",
              "    </tr>\n",
              "    <tr>\n",
              "      <th>2</th>\n",
              "      <td>2006-11-01</td>\n",
              "      <td>00:00:08</td>\n",
              "      <td>W3SVC1</td>\n",
              "      <td>127.0.0.1</td>\n",
              "      <td>GET</td>\n",
              "      <td>/Tulip/includes/js/CommonUtil.js</td>\n",
              "      <td>-</td>\n",
              "      <td>80</td>\n",
              "      <td>-</td>\n",
              "      <td>70.80.84.76</td>\n",
              "      <td>Mozilla/4.0+(compatible;+MSIE+6.0;+Windows+NT+...</td>\n",
              "      <td>http://www.hotelTulip.com.hk/Tulip/home/en-us/...</td>\n",
              "      <td>200</td>\n",
              "      <td>0</td>\n",
              "      <td>0</td>\n",
              "    </tr>\n",
              "    <tr>\n",
              "      <th>3</th>\n",
              "      <td>2006-11-01</td>\n",
              "      <td>00:00:09</td>\n",
              "      <td>W3SVC1</td>\n",
              "      <td>127.0.0.1</td>\n",
              "      <td>GET</td>\n",
              "      <td>/Tulip/common/common_style.aspx</td>\n",
              "      <td>lang=en-us</td>\n",
              "      <td>80</td>\n",
              "      <td>-</td>\n",
              "      <td>70.80.84.76</td>\n",
              "      <td>Mozilla/4.0+(compatible;+MSIE+6.0;+Windows+NT+...</td>\n",
              "      <td>http://www.hotelTulip.com.hk/Tulip/home/en-us/...</td>\n",
              "      <td>200</td>\n",
              "      <td>0</td>\n",
              "      <td>0</td>\n",
              "    </tr>\n",
              "    <tr>\n",
              "      <th>4</th>\n",
              "      <td>2006-11-01</td>\n",
              "      <td>00:00:09</td>\n",
              "      <td>W3SVC1</td>\n",
              "      <td>127.0.0.1</td>\n",
              "      <td>GET</td>\n",
              "      <td>/Tulip/common/en-us/images/top_img.jpg</td>\n",
              "      <td>-</td>\n",
              "      <td>80</td>\n",
              "      <td>-</td>\n",
              "      <td>70.80.84.76</td>\n",
              "      <td>Mozilla/4.0+(compatible;+MSIE+6.0;+Windows+NT+...</td>\n",
              "      <td>http://www.hotelTulip.com.hk/Tulip/home/en-us/...</td>\n",
              "      <td>200</td>\n",
              "      <td>0</td>\n",
              "      <td>0</td>\n",
              "    </tr>\n",
              "  </tbody>\n",
              "</table>\n",
              "</div>"
            ],
            "text/plain": [
              "         date      time s-sitename  ... sc-status sc-substatus sc-win32-status\n",
              "0  2006-11-01  00:00:08     W3SVC1  ...       200            0               0\n",
              "1  2006-11-01  00:00:08     W3SVC1  ...       200            0               0\n",
              "2  2006-11-01  00:00:08     W3SVC1  ...       200            0               0\n",
              "3  2006-11-01  00:00:09     W3SVC1  ...       200            0               0\n",
              "4  2006-11-01  00:00:09     W3SVC1  ...       200            0               0\n",
              "\n",
              "[5 rows x 15 columns]"
            ]
          },
          "metadata": {
            "tags": []
          },
          "execution_count": 92
        }
      ]
    },
    {
      "cell_type": "code",
      "metadata": {
        "id": "NdGAwUWwEElX"
      },
      "source": [
        ""
      ],
      "execution_count": null,
      "outputs": []
    }
  ]
}